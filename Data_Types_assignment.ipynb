{
 "cells": [
  {
   "cell_type": "code",
   "execution_count": null,
   "id": "90c390f9-914f-4641-beac-d7438f80b30e",
   "metadata": {},
   "outputs": [],
   "source": [
    "'''\n",
    "Q.1.Discuss string slicing and provide examples.\n",
    "Ans>> String dlicing allows you to extract a portion of a string using a specific range of indices.\n",
    "'''"
   ]
  },
  {
   "cell_type": "code",
   "execution_count": null,
   "id": "faf732bf-2ea5-4bd2-a146-593c3c66a5ef",
   "metadata": {},
   "outputs": [],
   "source": [
    "#Ex. \n",
    "course = \"pwskills\"\n"
   ]
  },
  {
   "cell_type": "code",
   "execution_count": 11,
   "id": "3f344836-e840-4b0c-8a46-4f04904f9012",
   "metadata": {},
   "outputs": [
    {
     "data": {
      "text/plain": [
       "'p'"
      ]
     },
     "execution_count": 11,
     "metadata": {},
     "output_type": "execute_result"
    }
   ],
   "source": [
    "course[0]"
   ]
  },
  {
   "cell_type": "code",
   "execution_count": 12,
   "id": "b2c5af33-6fc5-44ab-84a7-dbb5a9c9a992",
   "metadata": {},
   "outputs": [
    {
     "data": {
      "text/plain": [
       "'w'"
      ]
     },
     "execution_count": 12,
     "metadata": {},
     "output_type": "execute_result"
    }
   ],
   "source": [
    "course[1]"
   ]
  },
  {
   "cell_type": "code",
   "execution_count": 13,
   "id": "db3f2871-0ae6-4a7d-8153-ab1b3a376667",
   "metadata": {},
   "outputs": [
    {
     "data": {
      "text/plain": [
       "'s'"
      ]
     },
     "execution_count": 13,
     "metadata": {},
     "output_type": "execute_result"
    }
   ],
   "source": [
    "course[-1]"
   ]
  },
  {
   "cell_type": "code",
   "execution_count": 14,
   "id": "3bfa5531-c9c9-41e1-9cc4-037e9904416b",
   "metadata": {},
   "outputs": [
    {
     "data": {
      "text/plain": [
       "'pws'"
      ]
     },
     "execution_count": 14,
     "metadata": {},
     "output_type": "execute_result"
    }
   ],
   "source": [
    "course[0:3]"
   ]
  },
  {
   "cell_type": "code",
   "execution_count": 15,
   "id": "11a015bc-c36e-4205-afff-395f40d2fdc9",
   "metadata": {},
   "outputs": [
    {
     "data": {
      "text/plain": [
       "'pws'"
      ]
     },
     "execution_count": 15,
     "metadata": {},
     "output_type": "execute_result"
    }
   ],
   "source": [
    "course[:3]"
   ]
  },
  {
   "cell_type": "code",
   "execution_count": 16,
   "id": "057e6cc0-6c72-4255-9abb-d3d68b038646",
   "metadata": {},
   "outputs": [
    {
     "data": {
      "text/plain": [
       "'kills'"
      ]
     },
     "execution_count": 16,
     "metadata": {},
     "output_type": "execute_result"
    }
   ],
   "source": [
    "course[3:]"
   ]
  },
  {
   "cell_type": "code",
   "execution_count": 20,
   "id": "18d3677c-83fd-4283-9ab7-925283de8b23",
   "metadata": {},
   "outputs": [
    {
     "data": {
      "text/plain": [
       "'\\nQ.2. Explain the key features of lists in Python.\\nAns-#Orderd collection of data.\\n#List is Mutable.\\n#List allows you to store duplicate data.\\n#Indexation of the elements is possible.\\n#Slicing\\n#Holds the nested lists.\\n'"
      ]
     },
     "execution_count": 20,
     "metadata": {},
     "output_type": "execute_result"
    }
   ],
   "source": [
    "'''\n",
    "Q.2. Explain the key features of lists in Python.\n",
    "Ans-#Orderd collection of data.\n",
    "#List is Mutable.\n",
    "#List allows you to store duplicate data.\n",
    "#Indexation of the elements is possible.\n",
    "#Slicing\n",
    "#Holds the nested lists.\n",
    "#Add or remove elements in the list.\n",
    "'''"
   ]
  },
  {
   "cell_type": "code",
   "execution_count": 21,
   "id": "8d7566cb-670d-4c0f-a2e0-026ae487d7cd",
   "metadata": {},
   "outputs": [
    {
     "data": {
      "text/plain": [
       "'\\nQ.3. Describe how to access, modify, and delete elements in a list with examples.\\n'"
      ]
     },
     "execution_count": 21,
     "metadata": {},
     "output_type": "execute_result"
    }
   ],
   "source": [
    "'''\n",
    "Q.3. Describe how to access, modify, and delete elements in a list with examples.\n",
    "'''"
   ]
  },
  {
   "cell_type": "code",
   "execution_count": 2,
   "id": "33d91369-2362-4d64-8423-45b7079f2cd2",
   "metadata": {},
   "outputs": [],
   "source": [
    "#Ex-\n",
    "grocery_list = [\"potato\", \"tomato\", \"milk\", \"chips\"]\n"
   ]
  },
  {
   "cell_type": "code",
   "execution_count": 3,
   "id": "1f785075-a03d-4864-8302-61e329ba0360",
   "metadata": {},
   "outputs": [
    {
     "name": "stdout",
     "output_type": "stream",
     "text": [
      "['potato', 'tomato', 'milk', 'chips', 'milk']\n"
     ]
    }
   ],
   "source": [
    "#to add elements in th list\n",
    "grocery_list.append(\"milk\")\n",
    "print(grocery_list)"
   ]
  },
  {
   "cell_type": "code",
   "execution_count": 4,
   "id": "a3a7daed-ade0-4bb9-8f94-110a84332b62",
   "metadata": {},
   "outputs": [
    {
     "name": "stdout",
     "output_type": "stream",
     "text": [
      "['potato', 'milk', 'chips', 'milk']\n"
     ]
    }
   ],
   "source": [
    "#to remove elements from the list\n",
    "grocery_list.remove(\"tomato\")\n",
    "print(grocery_list)\n"
   ]
  },
  {
   "cell_type": "code",
   "execution_count": null,
   "id": "fe457972-0c5a-4507-99a2-ed91d982671f",
   "metadata": {},
   "outputs": [],
   "source": [
    "'''\n",
    "Q.4. Compare and contrast tuples and lists with examples.\n",
    "Ans-Tuples and list both are used to store collection of data or items,\n",
    "but they have some deifference.\n",
    "\n",
    "Charecterstics of tuples -\n",
    "*Immutable\n",
    "*Fixed size \n",
    "*Items are under ()\n",
    "*Faster operations\n",
    "\n",
    "Charecterstics of List -\n",
    "*Mutable \n",
    "*you can add or remove elements of the list.\n",
    "*the operations are slower as compared to the tuples.\n",
    "*Items or data is under []\n",
    "'''\n",
    "\n"
   ]
  },
  {
   "cell_type": "code",
   "execution_count": 6,
   "id": "7b5b29b6-9cd3-41b8-b12e-5f4174cdd4fa",
   "metadata": {},
   "outputs": [
    {
     "data": {
      "text/plain": [
       "'\\nQ.5. Describe the key features of sets and provide examples of their use.\\nAns-Charecterstics of List -\\n*Mutable \\n*you can add or remove elements of the list.\\n*the operations are slower as compared to the tuples.\\n*Items or data is under []\\n'"
      ]
     },
     "execution_count": 6,
     "metadata": {},
     "output_type": "execute_result"
    }
   ],
   "source": [
    "'''\n",
    "Q.5. Describe the key features of sets and provide examples of their use.\n",
    "Ans-List is an orderedd collection of data\n",
    "\n",
    "Charecterstics of List -\n",
    "*Mutable \n",
    "*you can add or remove elements of the list.\n",
    "*the operations are slower as compared to the tuples.\n",
    "*Items or data is under []\n",
    "'''"
   ]
  },
  {
   "cell_type": "code",
   "execution_count": 7,
   "id": "55102d34-892c-48b2-ada1-d6698e950658",
   "metadata": {},
   "outputs": [],
   "source": [
    "#Mutable\n",
    "school_bag = [\"books\", \"pen\", \"pencil\"]\n"
   ]
  },
  {
   "cell_type": "code",
   "execution_count": 10,
   "id": "093c839d-5cad-48e0-97bf-85534b543df0",
   "metadata": {},
   "outputs": [],
   "source": [
    "school_bag.append(\"tiffin box\") #to add elemts in the list"
   ]
  },
  {
   "cell_type": "code",
   "execution_count": 12,
   "id": "c7c2ad43-a850-4a2d-9edb-3ab3559712ac",
   "metadata": {},
   "outputs": [
    {
     "data": {
      "text/plain": [
       "['books', 'pen', 'pencil', 'tiffin box']"
      ]
     },
     "execution_count": 12,
     "metadata": {},
     "output_type": "execute_result"
    }
   ],
   "source": [
    "school_bag"
   ]
  },
  {
   "cell_type": "code",
   "execution_count": 14,
   "id": "bfc8b92f-afc7-4a08-80ec-f2e99b8e1323",
   "metadata": {},
   "outputs": [],
   "source": [
    "school_bag.remove(\"pen\") #to remove the elemnt the list"
   ]
  },
  {
   "cell_type": "code",
   "execution_count": 15,
   "id": "af772d86-491c-447f-b193-9659346a173a",
   "metadata": {},
   "outputs": [
    {
     "data": {
      "text/plain": [
       "['books', 'pencil', 'tiffin box']"
      ]
     },
     "execution_count": 15,
     "metadata": {},
     "output_type": "execute_result"
    }
   ],
   "source": [
    "school_bag"
   ]
  },
  {
   "cell_type": "code",
   "execution_count": 2,
   "id": "7d165f1b-a581-472f-a369-2c537075ff2b",
   "metadata": {},
   "outputs": [
    {
     "data": {
      "text/plain": [
       "'\\nQ.6. Discuss the use cases of tuples and sets in Python programming.\\nAns- Use cases of tuples -\\n*collection of data ehrer the data shuld not change\\n*enuring data integrity by preventing accidental modifications\\n*they are hashable\\n*Using tuples as keys of dictionary\\n*returning multiple values\\n\\n\\nUse cases of list-\\n*stores unique elemts and remove the duplicate elemnts present in the list\\n*efficiency of checking the presence of he item\\n*it performs mathematical operations\\n'"
      ]
     },
     "execution_count": 2,
     "metadata": {},
     "output_type": "execute_result"
    }
   ],
   "source": [
    "'''\n",
    "Q.6. Discuss the use cases of tuples and sets in Python programming.\n",
    "Ans- Use cases of tuples -\n",
    "*collection of data ehrer the data shuld not change\n",
    "*enuring data integrity by preventing accidental modifications\n",
    "*they are hashable\n",
    "*Using tuples as keys of dictionary\n",
    "*returning multiple values\n",
    "\n",
    "\n",
    "Use cases of list-\n",
    "*stores unique elemts and remove the duplicate elemnts present in the list\n",
    "*efficiency of checking the presence of he item\n",
    "*it performs mathematical operations\n",
    "'''"
   ]
  },
  {
   "cell_type": "code",
   "execution_count": 3,
   "id": "194b6743-1e5d-4222-83f3-46097bf968cf",
   "metadata": {},
   "outputs": [
    {
     "data": {
      "text/plain": [
       "'\\nQ.7. Describe how to add, modify, and delete items in a dictionary with examples.\\n'"
      ]
     },
     "execution_count": 3,
     "metadata": {},
     "output_type": "execute_result"
    }
   ],
   "source": [
    "'''\n",
    "Q.7. Describe how to add, modify, and delete items in a dictionary with examples.\n",
    "'''\n"
   ]
  },
  {
   "cell_type": "code",
   "execution_count": 6,
   "id": "dd8a43de-cf7e-4dc1-b592-32da1ffd0ec4",
   "metadata": {},
   "outputs": [],
   "source": [
    "# Initialize a dictionary\n",
    "my_dict = {'name': 'rahul', 'no': '4456'}"
   ]
  },
  {
   "cell_type": "code",
   "execution_count": 7,
   "id": "0bafe900-c152-4175-9e84-bb8a56c65585",
   "metadata": {},
   "outputs": [],
   "source": [
    "#to modify data in the dictionary\n",
    "my_dict['no'] = '4478'"
   ]
  },
  {
   "cell_type": "code",
   "execution_count": 8,
   "id": "2c31809f-14a0-4a9f-bcbc-3dd50add812a",
   "metadata": {},
   "outputs": [
    {
     "name": "stdout",
     "output_type": "stream",
     "text": [
      "{'name': 'rahul', 'no': '4478'}\n"
     ]
    }
   ],
   "source": [
    "print(my_dict)"
   ]
  },
  {
   "cell_type": "code",
   "execution_count": 9,
   "id": "d69dff11-e10c-4f54-a537-088714a677ef",
   "metadata": {},
   "outputs": [
    {
     "name": "stdout",
     "output_type": "stream",
     "text": [
      "{}\n"
     ]
    }
   ],
   "source": [
    "# Clear all items\n",
    "my_dict.clear()\n",
    "print(my_dict) "
   ]
  },
  {
   "cell_type": "code",
   "execution_count": 10,
   "id": "97a2c051-ce0c-4bb4-a3c9-02b406a7e6b3",
   "metadata": {},
   "outputs": [],
   "source": [
    "# Delete the dictionary\n",
    "del my_dict"
   ]
  },
  {
   "cell_type": "code",
   "execution_count": 11,
   "id": "a9a493b1-bae3-4479-b567-17e73fb63687",
   "metadata": {},
   "outputs": [
    {
     "ename": "NameError",
     "evalue": "name 'my_dict' is not defined",
     "output_type": "error",
     "traceback": [
      "\u001b[0;31m---------------------------------------------------------------------------\u001b[0m",
      "\u001b[0;31mNameError\u001b[0m                                 Traceback (most recent call last)",
      "Cell \u001b[0;32mIn[11], line 1\u001b[0m\n\u001b[0;32m----> 1\u001b[0m \u001b[43mmy_dict\u001b[49m\n",
      "\u001b[0;31mNameError\u001b[0m: name 'my_dict' is not defined"
     ]
    }
   ],
   "source": [
    "my_dict"
   ]
  },
  {
   "cell_type": "code",
   "execution_count": 12,
   "id": "d8548ad0-86f4-43cd-8896-b8576f9d493b",
   "metadata": {},
   "outputs": [
    {
     "data": {
      "text/plain": [
       "'\\nQ.7. Discuss the importance of dictionary keys being immutable and provide examples.\\nAns- Features of a dictionary-\\n*Hashability\\n*Consistency\\n*Performance\\n'"
      ]
     },
     "execution_count": 12,
     "metadata": {},
     "output_type": "execute_result"
    }
   ],
   "source": [
    "'''\n",
    "Q.7. Discuss the importance of dictionary keys being immutable and provide examples.\n",
    "Ans- Features of a dictionary-\n",
    "*Hashability\n",
    "*Consistency\n",
    "*Performance\n",
    "'''"
   ]
  },
  {
   "cell_type": "code",
   "execution_count": 13,
   "id": "6912a063-2d8e-465b-ad55-c241651868d5",
   "metadata": {},
   "outputs": [
    {
     "name": "stdout",
     "output_type": "stream",
     "text": [
      "Bahubali\n"
     ]
    }
   ],
   "source": [
    "\n",
    "#Ex\n",
    "my_dict = {\"name\": \"Bahubali\", \"age\": 69}\n",
    "print(my_dict[\"name\"])  \n"
   ]
  },
  {
   "cell_type": "code",
   "execution_count": null,
   "id": "03621f69-51d3-4a67-b600-436a2012e3f1",
   "metadata": {},
   "outputs": [],
   "source": [
    "#they are immutable \n",
    "#we can use the numbers, strings, tuples as keys in the dictionary."
   ]
  }
 ],
 "metadata": {
  "kernelspec": {
   "display_name": "Python 3 (ipykernel)",
   "language": "python",
   "name": "python3"
  },
  "language_info": {
   "codemirror_mode": {
    "name": "ipython",
    "version": 3
   },
   "file_extension": ".py",
   "mimetype": "text/x-python",
   "name": "python",
   "nbconvert_exporter": "python",
   "pygments_lexer": "ipython3",
   "version": "3.10.8"
  }
 },
 "nbformat": 4,
 "nbformat_minor": 5
}
